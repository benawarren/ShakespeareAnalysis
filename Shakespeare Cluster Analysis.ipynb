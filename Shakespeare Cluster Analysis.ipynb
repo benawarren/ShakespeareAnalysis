{
 "cells": [
  {
   "cell_type": "markdown",
   "id": "a4b5c9fd",
   "metadata": {},
   "source": [
    "### Cluster analysis\n",
    "\n",
    "I performed unsupervised clustering of the unidentified works in R (complete linkage, euclidean distance, hierarchical clustering - using hclust function). I wrote a quick Python function, since I couldn't get the geometric mean function to work in R.\n",
    "\n",
    "The output of the second code block returns the closest author (lowest geometric mean error) and the mean error value. It shows that the mean statistics of two of the clusters most closely resemble Shakespeare's stylistic fingerprint, while 1 each most resembles Barnfield and Marlowe."
   ]
  },
  {
   "cell_type": "code",
   "execution_count": null,
   "id": "36533425",
   "metadata": {},
   "outputs": [],
   "source": [
    "#geometric mean function\n",
    "def geom_mean(author_print, work_print):\n",
    "    error_list = []\n",
    "    \n",
    "    #compile errors at each attribute\n",
    "    for i in range(len(author_print)):\n",
    "        author = author_print[i]\n",
    "        work = work_print[i]\n",
    "\n",
    "        #Percent error calculation ((experimental-theoretical)/theoretical), with a slight modification\n",
    "        if not(author == 0.0 or work == 0.0):\n",
    "            perc_error = abs((work-author)/author)*100\n",
    "            error_list.append(perc_error)\n",
    "\n",
    "    #calculate geometric mean\n",
    "    n = len(error_list)\n",
    "    prod = np.prod(error_list)\n",
    "\n",
    "    return prod**(1/n)"
   ]
  },
  {
   "cell_type": "code",
   "execution_count": null,
   "id": "88528b2f",
   "metadata": {},
   "outputs": [],
   "source": [
    "#Author corpus fingerprints\n",
    "shakes = [4.549430, 7.972973, 8.217391]\n",
    "barn = [4.872679, 6.194444, 10.312500]\n",
    "griff = [4.061404, 8.928571, 15.000000]\n",
    "marl = [4.846154, 6.000000, 7.750000]\n",
    "\n",
    "#Cluster fingerprints (created through unsupervised clustering)\n",
    "c1 = [5.095238, 4.979592, 10.27273]\n",
    "c2 = [4.297897, 8.103195, 12.183333]\n",
    "c3 = [4.349683, 8.893519, 7.742857]\n",
    "c4 = [4.598915, 7.904762, 18.250000]\n",
    "\n",
    "author_list = [shakes, barn, griff, marl]\n",
    "work_list = [c1, c2, c3, c4]\n",
    "\n",
    "#closest_author function - returns a value corresponding to the author the input cluster most closely resembles\n",
    "#It also returns the value of the error for the closest author\n",
    "def closest_author(work):\n",
    "    index = 0\n",
    "    low_mean = geom_mean(author_list[0], work)\n",
    "    for author in author_list:\n",
    "        new_mean = geom_mean(author, work)\n",
    "        if new_mean < low_mean:\n",
    "            index = author_list.index(author)\n",
    "            low_mean = new_mean\n",
    "    return index, low_mean"
   ]
  },
  {
   "cell_type": "code",
   "execution_count": null,
   "id": "7ec1d4e4",
   "metadata": {},
   "outputs": [],
   "source": [
    "author_names = ['Shakespeare', 'Barnfield', 'Griffin', 'Marlowe']\n",
    "\n",
    "i = 1\n",
    "for work in work_list:\n",
    "    answer = closest_author(work)\n",
    "    print(\"Cluster\" + str(i) + \" - Closest Author: \" + author_names[answer[0]] + \" Geom. Mean Error: \" + str(answer[1]))\n",
    "    i += 1"
   ]
  }
 ],
 "metadata": {
  "kernelspec": {
   "display_name": "Python 3 (ipykernel)",
   "language": "python",
   "name": "python3"
  },
  "language_info": {
   "codemirror_mode": {
    "name": "ipython",
    "version": 3
   },
   "file_extension": ".py",
   "mimetype": "text/x-python",
   "name": "python",
   "nbconvert_exporter": "python",
   "pygments_lexer": "ipython3",
   "version": "3.8.9"
  }
 },
 "nbformat": 4,
 "nbformat_minor": 5
}
